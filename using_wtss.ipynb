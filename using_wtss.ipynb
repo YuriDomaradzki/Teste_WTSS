{
 "cells": [
  {
   "cell_type": "markdown",
   "metadata": {},
   "source": [
    "<div align='center'>\n",
    "    <p></p>\n",
    "<h3>Web Time Series Service (WTSS)</h3>\n",
    "    <p></p>\n",
    "</div>"
   ]
  },
  {
   "cell_type": "markdown",
   "metadata": {},
   "source": [
    "<div align='justify'>\n",
    "    \n",
    "    Este notebook contém uma adaptação do serviço WTSS. Neste script o usuário fornece o nome de um município e do estado no qual esse município está localizado, um intervalo temporal, um ou mais atributos e um método de agregação. A partir disso, são obtidas as séries temporais filtradas seguindo esses parâmetros. Por fim, o usuário pode apresentar graficamente um mapa com os resultados obtidos.\n",
    "\n",
    "    \n",
    "<h4>Obter as Localizações</h4>    \n",
    "\n",
    "    A partir da escolha do município, o script busca nos shapefiles disponíveis (que são as malhas municipais disponibilizadas pelo IBGE) o polígono que o delimita, aplica uma grade com resolução definida pelo usuário e obtém as localizações para consultar o serviço. Logo abaixo há um exemplo que demonstra esse processo.\n",
    "    \n",
    "<img src=\"./Images/obtaing_points.png\" width=80% heigth=60%> \n",
    "    \n",
    "<h4>Teste das grades</h4>\n",
    "    \n",
    "    A resolução da grade definida está relacionada a quantidade de pontos desejados para consultar as séries temporais de uma região. Quanto maior o valor da resolução de x e y, mais pontos serão obtidos. Por exemplo, uma grade de 10x10 retornará menos pixels do que uma grade de 150x150. \n",
    "    Alguns testes foram feitos para medir a velocidade desta aborgadem e verificar se o WTSS responderia bem a ela. Esses testes foram:\n",
    "    \n",
    "<ul>\n",
    "    <li> <b>Região</b>: Cametá-PA\n",
    "    <li> <b>Período</b>: 2020-01-01 a 2020-12-31\n",
    "    <li> <b>Cubo</b>: MOD13Q1-6\n",
    "    <li> <b>Atributos</b>: 'EVI' e 'NDVI'\n",
    "    <li> <b>Grades</b>: \n",
    "        <ul><b>10x10</b>:\n",
    "            <li>Tempo de execução: 15s\n",
    "            <li>Pontos: 1242\n",
    "            <li>Threads: 4\n",
    "        </ul>\n",
    "        <ul><b>20x20</b>:\n",
    "            <li>Tempo de execução: 47s\n",
    "            <li>Pontos: 5083\n",
    "            <li>Threads: 4\n",
    "        </ul>\n",
    "        <ul><b>30x30</b>:\n",
    "            <li>Tempo de execução: 1min 27s\n",
    "            <li>Pontos: 11316\n",
    "            <li>Threads: 4\n",
    "        </ul>\n",
    "        <ul><b>40x40</b>:\n",
    "            <li>Tempo de execução: 2min e 37s\n",
    "            <li>Pontos: 20148\n",
    "            <li>Threads: 4\n",
    "        </ul>\n",
    "        <ul><b>50x50</b>:\n",
    "            <li>Tempo de execução: 4min e 57s\n",
    "            <li>Pontos: 31556\n",
    "            <li>Threads: 4\n",
    "        </ul>\n",
    "        <ul><b>60x60</b>:\n",
    "            <li>Tempo de execução: 7min e 15s\n",
    "            <li>Pontos: 45218\n",
    "            <li>Threads: 4\n",
    "        </ul>\n",
    "        <ul><b>80x80</b>:\n",
    "            <li>Tempo de execução: 11min e 05s\n",
    "            <li>Pontos: 80592\n",
    "            <li>Threads: 4\n",
    "        </ul>\n",
    "        <ul><b>100x100</b>:\n",
    "            <li>Tempo de execução: 17min e 50s\n",
    "            <li>Pontos: 125833\n",
    "            <li>Threads: 4\n",
    "        </ul>\n",
    "        <ul><b>120x120</b>:\n",
    "            <li>Tempo de execução: 28min e 14s\n",
    "            <li>Pontos: 181079\n",
    "            <li>Threads: 4\n",
    "        </ul>\n",
    "        <ul><b>150x150</b>:\n",
    "            <li>Tempo de execução: 43min\n",
    "            <li>Pontos: 283222\n",
    "            <li>Threads: 4\n",
    "        </ul>\n",
    "</ul>\n",
    "    \n",
    "</div>"
   ]
  },
  {
   "cell_type": "markdown",
   "metadata": {},
   "source": [
    "<h4>Instalação e importação das bibliotecas</h4>"
   ]
  },
  {
   "cell_type": "code",
   "execution_count": 1,
   "metadata": {},
   "outputs": [],
   "source": [
    "#!pip install --upgrade pip setuptools wheel\n",
    "#!pip install numpy\n",
    "#!pip install geopandas\n",
    "#!pip install pandas\n",
    "#!pip install wtss\n",
    "#!pip install matplotlib\n",
    "#!pip install mapclassify\n",
    "#!pip install folium\n",
    "#!pip install shapely"
   ]
  },
  {
   "cell_type": "code",
   "execution_count": 1,
   "metadata": {},
   "outputs": [],
   "source": [
    "import wtss_harmonize"
   ]
  },
  {
   "cell_type": "markdown",
   "metadata": {},
   "source": [
    "<div align='justify'>\n",
    "    \n",
    "A célula abaixo instancia um objeto que permite acesso as seguintes funcionalidades:\n",
    "\n",
    "<ul>\n",
    "    <li> <b>list_coverages:</b> lista os cubos disponíveis no repositório do BDC;\n",
    "    <li> <b>list_coverage_attributes:</b> lista os atributos dos cubos (ex: NDVI, EVI etc);\n",
    "    <li> <b>get_timeseries:</b> obtém as séries temporais para uma determinada região;\n",
    "    <li> <b>plot:</b> apresenta graficamente as séries temporais;\n",
    "</ul>\n",
    "\n",
    "Para instanciar este objeto, é necessário informar um <i>token</i> de acesso, que é gerado pelo BDC para utilizar as ferramentas disponibilizadas pelo projeto.\n",
    "    \n",
    "</div>"
   ]
  },
  {
   "cell_type": "code",
   "execution_count": 2,
   "metadata": {},
   "outputs": [],
   "source": [
    "service = wtss_harmonize.WTSS_Harmonize(token='change_me')"
   ]
  },
  {
   "cell_type": "code",
   "execution_count": 3,
   "metadata": {},
   "outputs": [
    {
     "data": {
      "text/plain": [
       "['MOD13Q1-6',\n",
       " 'MYD13Q1-6',\n",
       " 'S2-SEN2COR_10_16D_STK-1',\n",
       " 'LC8_30_16D_STK-1',\n",
       " 'CB4MUX_20_1M_STK-1',\n",
       " 'LC8_30_6M_MEDSTK-1',\n",
       " 'CB4_64_16D_STK-1',\n",
       " 'LANDSAT-MOZ_30_1M_STK-1',\n",
       " 'S2-16D-2',\n",
       " 'CBERS-WFI_64_8D_LCF-1']"
      ]
     },
     "execution_count": 3,
     "metadata": {},
     "output_type": "execute_result"
    }
   ],
   "source": [
    "service.list_coverages"
   ]
  },
  {
   "cell_type": "code",
   "execution_count": 4,
   "metadata": {},
   "outputs": [
    {
     "data": {
      "text/plain": [
       "['BAND13',\n",
       " 'BAND14',\n",
       " 'BAND15',\n",
       " 'BAND16',\n",
       " 'CMASK',\n",
       " 'EVI',\n",
       " 'NDVI',\n",
       " 'CLEAROB',\n",
       " 'TOTALOB',\n",
       " 'PROVENANCE',\n",
       " 'DATASOURCE']"
      ]
     },
     "execution_count": 4,
     "metadata": {},
     "output_type": "execute_result"
    }
   ],
   "source": [
    "service.list_coverage_attributes(name='CBERS-WFI_64_8D_LCF-1')"
   ]
  },
  {
   "cell_type": "markdown",
   "metadata": {},
   "source": [
    "O método <b>get_timeseries</b> necessita dos seguinte parâmetros:\n",
    "\n",
    "<ul>\n",
    "    <li><b>município</b>: é uma <i>string</i> que representa o nome do município definido para obter as séries temporais;\n",
    "    <li><b>uf</b>: é uma <i>string</i> que representa a abreviação dos estados;\n",
    "    <li><b>start_date</b>: é uma <i>string</i> que marca o início do período de obtenção das séries;\n",
    "    <li><b>end_date</b>: é uma <i>string</i> que marca o término do período de obtenção das séries;\n",
    "    <li><b>coverage</b>: é uma <i>string</i> que define o nome do cubo para consulta das séries temporais;\n",
    "    <li><b>attributes</b>: é uma <i>tupla</i> de <i>strings</i> que aponta os atributos a serem consultados;\n",
    "    <li><b>grid</b>: é uma <i>tupla</i> de <i>inteiros</i> que aponta a resolução da grade utilizada para obter as localizações para consultar as séries temporais;\n",
    "</ul>"
   ]
  },
  {
   "cell_type": "code",
   "execution_count": 5,
   "metadata": {},
   "outputs": [],
   "source": [
    "x, y = 100, 100\n",
    "df_ts = service.get_timeseries(municipio='cametá', uf='pa', start_date='2020-01-01', end_date='2020-12-31', \n",
    "                               coverage='MOD13Q1-6', attributes=('EVI', 'NDVI'), grid=(x, y))"
   ]
  },
  {
   "cell_type": "markdown",
   "metadata": {},
   "source": [
    "O método <b>plot</b> necessita dos seguinte parâmetros:\n",
    "\n",
    "<ul>\n",
    "    <li><b>df</b>: é uma <i>geoDataFrame</i> que contém os valores das séries consultadas;\n",
    "    <li><b>attributes</b>: é uma <i>lista</i> que contém os atributos a serem apresentados;\n",
    "    <li><b>aggregation</b>: é uma <i>string</i> que define o método de agregação aplicada nos dados;\n",
    "    <li><b>start_date</b>: é uma <i>string</i> que define a data de início da representação gráfica;\n",
    "    <li><b>end_date</b>: é uma <i>string</i> que define a data de término da representação gráfica. Caso o usuário não defina uma data de término, é necessário definir o parâmetro <i>qtd_days</i>, para aplicar a agregação dos dados para um período delimitado;\n",
    "    <li><b>qtd_days</b>: é uma <i>inteiro</i> que delimita o período de agregação a ser feita. Caso não seja definido o <i>qtd_days</i>, é necesário definir o <i>end_date</i>;\n",
    "</ul>"
   ]
  },
  {
   "cell_type": "code",
   "execution_count": 7,
   "metadata": {},
   "outputs": [
    {
     "name": "stderr",
     "output_type": "stream",
     "text": [
      "/home/yuri/Documentos/teste_wtss/venv/lib/python3.10/site-packages/geopandas/geodataframe.py:1676: FutureWarning: The default value of numeric_only in DataFrameGroupBy.mean is deprecated. In a future version, numeric_only will default to False. Either specify numeric_only or select only columns which should be valid for the function.\n",
      "  aggregated_data = data.groupby(**groupby_kwargs).agg(aggfunc)\n",
      "/home/yuri/Documentos/teste_wtss/venv/lib/python3.10/site-packages/geopandas/geodataframe.py:1676: FutureWarning: The default value of numeric_only in DataFrameGroupBy.mean is deprecated. In a future version, numeric_only will default to False. Either specify numeric_only or select only columns which should be valid for the function.\n",
      "  aggregated_data = data.groupby(**groupby_kwargs).agg(aggfunc)\n"
     ]
    }
   ],
   "source": [
    "service.plot(df=df_ts, attributes=['EVI', 'NDVI'], aggregation='mean', start_date='2020-01-01', qtd_days=60)"
   ]
  }
 ],
 "metadata": {
  "kernelspec": {
   "display_name": "venv",
   "language": "python",
   "name": "python3"
  },
  "language_info": {
   "codemirror_mode": {
    "name": "ipython",
    "version": 3
   },
   "file_extension": ".py",
   "mimetype": "text/x-python",
   "name": "python",
   "nbconvert_exporter": "python",
   "pygments_lexer": "ipython3",
   "version": "3.10.6"
  },
  "vscode": {
   "interpreter": {
    "hash": "449d28f5601f61bf68def7915e0a8aa65aa2e6023b7541cb3fb98bfdb4e6e438"
   }
  }
 },
 "nbformat": 4,
 "nbformat_minor": 5
}
